{
 "cells": [
  {
   "cell_type": "markdown",
   "id": "b1620c51",
   "metadata": {
    "deletable": false,
    "editable": false,
    "nbgrader": {
     "cell_type": "markdown",
     "checksum": "6febf6b39cb806d604697d52bf293bcf",
     "grade": false,
     "grade_id": "cell-Header",
     "locked": true,
     "schema_version": 3,
     "solution": false,
     "task": false
    }
   },
   "source": [
    "\n",
    "# MT1003 Computing Project 2023-24: \n",
    "\n",
    "Welcome to the MT1003 computing project.\n",
    "    \n",
    "## Instructions\n",
    "\n",
    "The project itself is worth 15% of your final grade in the module.  There are 20 marks available, 10 for an applied question and 10 for a pure question.\n",
    "\n",
    "#### Submitting your project\n",
    "You should upload your work as a single *.ipynb* file to MMS as a single file by **5pm on Friday 29th March 2023** (end of Week 10).  \n",
    "\n",
    "If you have been working on the server you will need to download the file from this server using `Download` in the `File` menu. The file **must** be downloaded as a Notebook. Your project must be self-contained and give the desired results when run in sequence (from top to bottom) by the marker. \n",
    "\n",
    "Before submitting, you should **restart the kernel and run all cells** (in the menubar, Run$\\rightarrow$Restart Kernel and Run All Cells **or** click the double triangle symbol &#x23E9;) and check all outputs are as expected.\n",
    "\n",
    "#### Getting help\n",
    "Help is available from staff in your computing lab sessions in weeks 8-10 of the semester.  Make sure to use these well and do not leave all your questions to Week 10.  See computing booklet for more instructions and help.\n",
    "\n",
    "#### Other comments\n",
    "The questions in this project will be partly automatically graded. This means attention to detail is required to pass the grading tests. In particular where you are asked to create a specific variable or function, **it must be named exactly as written in the question**. Take note that Python is case-sensitive.\n",
    "    \n",
    "The cells which contain \n",
    "```Python\n",
    "# Your answer here\n",
    "``` \n",
    "are where you should enter your solution. Cells which contain \n",
    "    \n",
    "```Python\n",
    "# DO NOT EDIT THIS CELL\n",
    "``` \n",
    "*should be left alone, not edited or deleted*.\n",
    "    \n",
    "We suggest copying the notebook and working in a draft version. Once you are happy with your solution you can copy into the final notebook. Be sure to check that the final notebook runs correctly after copying.\n",
    "\n",
    "---"
   ]
  },
  {
   "cell_type": "markdown",
   "id": "230f363d",
   "metadata": {
    "deletable": false,
    "editable": false,
    "nbgrader": {
     "cell_type": "markdown",
     "checksum": "d1d50da18834bc7f5afbce77a578bc77",
     "grade": false,
     "grade_id": "cell-Q1p1",
     "locked": true,
     "schema_version": 3,
     "solution": false,
     "task": false
    }
   },
   "source": [
    "## Applied: A 2D Map\n",
    "\n",
    "A modified [Henon map](https://en.wikipedia.org/wiki/H%C3%A9non_map) can be defined as\n",
    "\n",
    "\\begin{align}\n",
    "x_{n+1} &= a-x_n^2+by_n \\\\\n",
    "y_{n+1} &= \\sin(x_n)\n",
    "\\end{align}\n",
    "\n",
    "We can write such a two-dimensional map in vector form by saying $\\mathbf{z}=\\left( \\begin{array}{c} x \\\\y\\end{array} \\right )$ with\n",
    "\n",
    "$$\n",
    "\\mathbf{z}_{n+1} = \\mathbf{f}(\\mathbf{z}_n)\n",
    "$$\n",
    "\n",
    "and\n",
    "\n",
    "$$\n",
    "\\mathbf{f}(\\mathbf{z}_n)= \\left( \\begin{array}{c} a-x_n^2+by_n \\\\ \\sin(x_n)\\end{array} \\right )\n",
    "$$\n",
    "\n",
    "We can then apply our usual iterative methods in Python to advance the map. \n",
    "\n",
    "___\n",
    "\n",
    "### Q1.1\n",
    "\n",
    "***By using numpy arrays (for $\\mathbf{z}$) create a Python function for the iteration function $\\mathbf{f}$ named `fIter(z)`*** which takes as input the array of $\\left( \\begin{array}{c} x_n \\\\y_n\\end{array} \\right )$ values and returns the corresponding $\\left( \\begin{array}{c} x_{n+1} \\\\y_{n+1}\\end{array} \\right ).$ In other words both input and output of your function should be 2 element numpy arrays.\n",
    "\n",
    "***Use your function to perform 100 iterations of this map,*** setting $a=1.5$ and $b=0.25,$ starting from $(x_0,y_0)=(0,1)$ storing your values in a two-dimensional array, size $2\\times 100,$ called `zs`.\n",
    "\n",
    "***Create a scatterplot of the 100 $x$ and $y$ values*** (you might want to look at \"Formatting the style of your plot\" [here](https://matplotlib.org/stable/tutorials/pyplot.html#formatting-the-style-of-your-plot)).\n",
    "\n",
    "**[3 marks]**"
   ]
  },
  {
   "cell_type": "code",
   "execution_count": 1,
   "id": "4e1be553",
   "metadata": {
    "deletable": false,
    "execution": {
     "iopub.execute_input": "2024-03-20T05:23:23.445808Z",
     "iopub.status.busy": "2024-03-20T05:23:23.445163Z",
     "iopub.status.idle": "2024-03-20T05:23:26.575643Z",
     "shell.execute_reply": "2024-03-20T05:23:26.574539Z",
     "shell.execute_reply.started": "2024-03-20T05:23:23.445753Z"
    },
    "nbgrader": {
     "cell_type": "code",
     "checksum": "b09675c601730912e018b50284e72f62",
     "grade": true,
     "grade_id": "cell-Q1p1-ans",
     "locked": false,
     "points": 1,
     "schema_version": 3,
     "solution": true,
     "task": false
    },
    "tags": []
   },
   "outputs": [
    {
     "data": {
      "image/png": "[encoded data removed]",
      "text/plain": [
       "<Figure size 640x480 with 1 Axes>"
      ]
     },
     "metadata": {},
     "output_type": "display_data"
    }
   ],
   "source": [
    "import numpy as np\n",
    "import matplotlib.pyplot as plt\n",
    "\n",
    "def fIter(z, a=1.5, b=0.25):\n",
    "    x, y = z\n",
    "    x_next = a - x**2 + b*y\n",
    "    y_next = np.sin(x)\n",
    "    return np.array([x_next, y_next])\n",
    "\n",
    "# Perform 100 iterations\n",
    "z = np.array([0, 1])  # Initial condition\n",
    "iterations = 100\n",
    "zs = np.zeros((2, iterations))  # Store x and y values\n",
    "\n",
    "for i in range(iterations):\n",
    "    zs[:, i] = z\n",
    "    z = fIter(z)\n",
    "\n",
    "# Scatterplot of the x and y values\n",
    "plt.scatter(zs[0, :], zs[1, :], c='blue', marker='.')\n",
    "plt.title('Henon Map Iterations')\n",
    "plt.xlabel('$x_n$')\n",
    "plt.ylabel('$y_n$')\n",
    "plt.show()\n"
   ]
  },
  {
   "cell_type": "code",
   "execution_count": 2,
   "id": "12903829",
   "metadata": {
    "deletable": false,
    "editable": false,
    "execution": {
     "iopub.execute_input": "2024-03-11T14:29:11.340031Z",
     "iopub.status.busy": "2024-03-11T14:29:11.339687Z",
     "iopub.status.idle": "2024-03-11T14:29:11.355874Z",
     "shell.execute_reply": "2024-03-11T14:29:11.354544Z",
     "shell.execute_reply.started": "2024-03-11T14:29:11.339995Z"
    },
    "nbgrader": {
     "cell_type": "code",
     "checksum": "15a8e2ec33c4162971ae0c4b01857e65",
     "grade": true,
     "grade_id": "cell-Q1p1-tests",
     "locked": true,
     "points": 2,
     "schema_version": 3,
     "solution": false,
     "task": false
    },
    "tags": []
   },
   "outputs": [],
   "source": [
    "# Don't edit this cell\n",
    "\n",
    "if not \"fIter\" in globals():\n",
    "    raise NotImplementedError(\"fIter has not been defined in Question 1.1\")\n",
    "if not \"zs\" in globals():\n",
    "    raise NotImplementedError(\"zs has not been defined in Question 1.1\")\n"
   ]
  },
  {
   "cell_type": "markdown",
   "id": "32df6840",
   "metadata": {
    "deletable": false,
    "editable": false,
    "nbgrader": {
     "cell_type": "markdown",
     "checksum": "04e53e73e845fd340b5fecedb339f399",
     "grade": false,
     "grade_id": "cell-Q1p2",
     "locked": true,
     "schema_version": 3,
     "solution": false,
     "task": false
    }
   },
   "source": [
    "### Q1.2\n",
    "\n",
    "***Iterate again,*** the only difference this time being your ***initial condition:*** $(x_0,y_0)=(10^{-4},1).$ \n",
    "\n",
    "***Plot $x_n$-vs-$n$ for both initial conditions on the same axes*** (i.e. on the same plot). \n",
    "\n",
    "Compare the final $(x_{100},y_{100})$ between the two sets of iterations (i.e. the two different initial conditions), and ***choose the correct ending to the sentence below by creating a string***, named `answer1` which has the single character `a`, `b` or `c` corresponding to the correct choice. \n",
    "\n",
    "The difference between the final $(x_{100},y_{100})$ is\n",
    "\n",
    "`a`   relatively large because of floating point error\n",
    "\n",
    "`b`   relatively large because the system is chaotic\n",
    "\n",
    "`c`   relatively small because the starting difference is small\n",
    "\n",
    "**[1 marks]**"
   ]
  },
  {
   "cell_type": "code",
   "execution_count": 3,
   "id": "0b44f08c",
   "metadata": {
    "deletable": false,
    "execution": {
     "iopub.execute_input": "2024-03-11T14:29:12.161028Z",
     "iopub.status.busy": "2024-03-11T14:29:12.160454Z",
     "iopub.status.idle": "2024-03-11T14:29:12.389239Z",
     "shell.execute_reply": "2024-03-11T14:29:12.388130Z",
     "shell.execute_reply.started": "2024-03-11T14:29:12.160977Z"
    },
    "nbgrader": {
     "cell_type": "code",
     "checksum": "ec233adcf5cf4ba9c5a33a9fdf583259",
     "grade": true,
     "grade_id": "cell-Q1p2-ans",
     "locked": false,
     "points": 0.5,
     "schema_version": 3,
     "solution": true,
     "task": false
    },
    "scrolled": true,
    "tags": []
   },
   "outputs": [
    {
     "data": {
      "image/png": "[encoded data removed]",
      "text/plain": [
       "<Figure size 1500x500 with 1 Axes>"
      ]
     },
     "metadata": {},
     "output_type": "display_data"
    }
   ],
   "source": [
    "# New initial condition\n",
    "z_new = np.array([1e-4, 1])  # (10^-4, 1)\n",
    "zs_new = np.zeros((2, iterations))  # Store x and y values for new iterations\n",
    "\n",
    "# Perform iterations for the new initial condition\n",
    "for i in range(iterations):\n",
    "    zs_new[:, i] = z_new\n",
    "    z_new = fIter(z_new)\n",
    "\n",
    "    \n",
    "#print(zs[0, 99], zs[1, 99])\n",
    "#print(zs_new[0, 99], zs_new[1, 99])\n",
    "\n",
    "\n",
    "#Plot x_n vs n for both initial conditions\n",
    "plt.figure(figsize=(15, 5))\n",
    "\n",
    "# plt.scatter(range(iterations), zs[0, :], label='Initial condition (0, 1)')\n",
    "# plt.scatter(range(iterations), zs_new[0, :], label='Initial condition ($10^{-4}$, 1)')\n",
    "\n",
    "#Decided to plot these as curves rather than as a scatter plot, for easier inference. Scatter plot can be seen above.\n",
    "\n",
    "plt.plot(range(iterations), zs[0, :], label='Initial condition (0, 1)')\n",
    "plt.plot(range(iterations), zs_new[0, :], label='Initial condition ($10^{-4}$, 1)')\n",
    "plt.title('Comparison of Henon Map Iterations')\n",
    "plt.xlabel('n (Iteration number)')\n",
    "plt.ylabel('$x_n$')\n",
    "plt.legend()\n",
    "plt.show()\n",
    "\n",
    "answer1 = 'b'  # relatively large because the system is chaotic"
   ]
  },
  {
   "cell_type": "code",
   "execution_count": 4,
   "id": "3669bb33",
   "metadata": {
    "deletable": false,
    "editable": false,
    "execution": {
     "iopub.execute_input": "2024-03-11T14:29:12.559126Z",
     "iopub.status.busy": "2024-03-11T14:29:12.558681Z",
     "iopub.status.idle": "2024-03-11T14:29:12.568319Z",
     "shell.execute_reply": "2024-03-11T14:29:12.566301Z",
     "shell.execute_reply.started": "2024-03-11T14:29:12.559094Z"
    },
    "nbgrader": {
     "cell_type": "code",
     "checksum": "d6e85ab85cbbbbb4e0e27cc11546f43c",
     "grade": true,
     "grade_id": "cell-Q1p2-tests",
     "locked": true,
     "points": 0.5,
     "schema_version": 3,
     "solution": false,
     "task": false
    },
    "tags": []
   },
   "outputs": [],
   "source": [
    "# Don't edit this cell\n",
    "\n",
    "if not \"answer1\" in globals():\n",
    "    raise NotImplementedError(\"answer1 has not been defined in Question 1.2\")\n"
   ]
  },
  {
   "cell_type": "markdown",
   "id": "a14ca6b5",
   "metadata": {
    "deletable": false,
    "editable": false,
    "nbgrader": {
     "cell_type": "markdown",
     "checksum": "f9edd663605a5acf229f443be0c8ced9",
     "grade": false,
     "grade_id": "cell-Q1p3",
     "locked": true,
     "schema_version": 3,
     "solution": false,
     "task": false
    }
   },
   "source": [
    "### Q1.3\n",
    "\n",
    "As we know, maps like this one can have fixed points where $\\mathbf{z}_{n+1}=\\mathbf{z}_n.$ For this two-dimensional map the fixed point would satisfy the simultaneous equations\n",
    "\n",
    "\\begin{align}\n",
    "x &= a-x^2+by \\\\\n",
    "y &= \\sin(x).\n",
    "\\end{align}\n",
    "\n",
    "To obtain the solutions of these equations requires a numerical root-finding method. While it is possible to perform a [\"2D Newton-Raphson\" iteration](https://en.wikipedia.org/wiki/Newton%27s_method#Systems_of_equations), a better approach, in this example, is to simplify the problem by obtaining a function of one variable $g(x)$ and finding its root. \n",
    "\n",
    "---\n",
    "\n",
    "***Obtain a valid $g(x)$ for which $g(x)=0$ provides the $x-$coordinate of the fixed point of the system above.***\n",
    "\n",
    "***Define Python functions `g(x)` for this $g(x)$ and also one for $g'(x)$ called `dg(x)`.*** \n",
    "\n",
    "***Use these to perform Newton-Raphson iteration*** starting with an initial value of $-1$, iterating until $|g(x)|<10^{-7}.$ Store your final $(x,y)$ of your fixed point in a Python array named `zFix.` \n",
    "\n",
    "Verify that this is the fixed point by printing the difference $\\mathbf{z}-\\mathbf{f(z)}.$\n",
    "\n",
    "**[2 marks]**"
   ]
  },
  {
   "cell_type": "code",
   "execution_count": 5,
   "id": "b8317848",
   "metadata": {
    "deletable": false,
    "execution": {
     "iopub.execute_input": "2024-03-11T14:29:13.387017Z",
     "iopub.status.busy": "2024-03-11T14:29:13.386419Z",
     "iopub.status.idle": "2024-03-11T14:29:13.403698Z",
     "shell.execute_reply": "2024-03-11T14:29:13.401527Z",
     "shell.execute_reply.started": "2024-03-11T14:29:13.386963Z"
    },
    "nbgrader": {
     "cell_type": "code",
     "checksum": "444334e9296eaa893e15ab57d37ecdfb",
     "grade": false,
     "grade_id": "cell-Q1p3-ans",
     "locked": false,
     "schema_version": 3,
     "solution": true,
     "task": false
    },
    "tags": []
   },
   "outputs": [
    {
     "name": "stdout",
     "output_type": "stream",
     "text": [
      "Difference values: 4.596323321948148e-14 , 0.0\n"
     ]
    }
   ],
   "source": [
    "import numpy as np\n",
    "\n",
    "# Constants\n",
    "a = 1.5\n",
    "b = 0.25\n",
    "\n",
    "#Function g(x)\n",
    "def g(x):\n",
    "    return a - x**2 + b * np.sin(x) - x\n",
    "\n",
    "# Derivative of g(x)\n",
    "def dg(x):\n",
    "    return b * np.cos(x) - 2*x - 1\n",
    "\n",
    "#Newton-Raphson\n",
    "x = -1  # initial guess\n",
    "absval_limit = 1e-7\n",
    "\n",
    "while abs(g(x)) > absval_limit:\n",
    "    x = x - g(x) / dg(x)\n",
    "\n",
    "#Fixed point y-coordinate\n",
    "y = np.sin(x)\n",
    "\n",
    "# Fixed point array\n",
    "zFix = np.array([x, y])\n",
    "\n",
    "#Verify the fixed point\n",
    "# print(\"zFix:\", zFix[0], \",\", zFix[1])\n",
    "print(\"Difference values:\", zFix[0] - np.array([a - x**2 + b*y, np.sin(x)])[0], \",\", zFix[1] - np.array([a - x**2 + b*y, np.sin(x)])[1])\n",
    "\n",
    "#Since the difference values for both x,y are effectively 0, the iteration is accurate."
   ]
  },
  {
   "cell_type": "code",
   "execution_count": 6,
   "id": "41eb8e3f",
   "metadata": {
    "deletable": false,
    "editable": false,
    "execution": {
     "iopub.execute_input": "2024-03-11T14:29:13.924023Z",
     "iopub.status.busy": "2024-03-11T14:29:13.923707Z",
     "iopub.status.idle": "2024-03-11T14:29:13.939398Z",
     "shell.execute_reply": "2024-03-11T14:29:13.938065Z",
     "shell.execute_reply.started": "2024-03-11T14:29:13.923992Z"
    },
    "nbgrader": {
     "cell_type": "code",
     "checksum": "17be2824a55e26778d33702a86e69fdd",
     "grade": true,
     "grade_id": "cell-Q1p3-test",
     "locked": true,
     "points": 2,
     "schema_version": 3,
     "solution": false,
     "task": false
    },
    "tags": []
   },
   "outputs": [],
   "source": [
    "# Don't edit this cell\n",
    "\n",
    "if not \"g\" in globals():\n",
    "    raise NotImplementedError(\"g has not been defined in Question 1.3\")\n",
    "    \n",
    "if not \"dg\" in globals():\n",
    "    raise NotImplementedError(\"dg has not been defined in Question 1.3\")\n",
    "    \n",
    "if not \"zFix\" in globals():\n",
    "    raise NotImplementedError(\"zFix has not been defined in Question 1.3\")\n"
   ]
  },
  {
   "cell_type": "markdown",
   "id": "3d81d274",
   "metadata": {
    "deletable": false,
    "editable": false,
    "nbgrader": {
     "cell_type": "markdown",
     "checksum": "61539b8be542793627e40005c6ceb200",
     "grade": false,
     "grade_id": "cell-Q1p4",
     "locked": true,
     "schema_version": 3,
     "solution": false,
     "task": false
    }
   },
   "source": [
    "### Q1.4\n",
    "\n",
    "The points plotted in Q1.1 and Q1.2 lie on the \"attractor\" for this system; if you keep iterating we will fill out some (complicated) curve/shape for this object on the $(x,y)$ plane. Points on the plane can either be attracted towards this attractor or repelled away from it (to infinity in some direction). The set of starting points which result in iterations moving on to the attractor (i.e. that do not tend to infinity), are known as its \"basin of attraction\".\n",
    "\n",
    "---\n",
    "\n",
    "Visualise the basin of attraction in the following way. \n",
    "\n",
    "* ***Set up a 2D grid of $(x_0,y_0)$ points***; Use `linspace` commands to make an array, named `xgrid` for $x_0\\in[-5,5]$ and another `ygrid` for $y_0\\in[-5,5],$ each with 50 points. \n",
    "* This grid provides a $50\\times 50$ set of points to start our iterations from; ***by using nested loops to traverse all $(x_{0},y_{0})$ combinations, perform 25 iterations of our map, starting from each point. Store the final $|x_{25}|$ in a $50\\times 50$ array called `xEnd`.***\n",
    "* Some starting values will end up with iterations tending to infinity; to prevent this, ***stop the iteration if $|x|>10^7.$*** In this case `xEnd` should contain the final iteration before stopping.\n",
    "* ***Plot the result*** by using the following code:\n",
    "\n",
    "```\n",
    "xx,yy = np.meshgrid(xgrid,ygrid,indexing='ij')\n",
    "\n",
    "plt.figure()\n",
    "plt.pcolor(xx,yy,xEnd)\n",
    "plt.clim(-10,10)\n",
    "plt.xlabel('x')\n",
    "plt.xlabel('y')\n",
    "plt.show()\n",
    "\n",
    "```\n",
    "\n",
    "You should see bright yellow where the iteration has diverged and some blue/green colour where the iteration goes to the attractor.\n",
    "\n",
    "* Plot, in the same figure (i.e. overlaid on top), the points generated in Q1.1 and the fixed point from Q1.3.\n",
    "\n",
    "**[2 marks]**"
   ]
  },
  {
   "cell_type": "code",
   "execution_count": 7,
   "id": "93e8c800",
   "metadata": {
    "deletable": false,
    "execution": {
     "iopub.execute_input": "2024-03-11T14:29:15.851081Z",
     "iopub.status.busy": "2024-03-11T14:29:15.850525Z",
     "iopub.status.idle": "2024-03-11T14:29:16.302369Z",
     "shell.execute_reply": "2024-03-11T14:29:16.301048Z",
     "shell.execute_reply.started": "2024-03-11T14:29:15.851028Z"
    },
    "nbgrader": {
     "cell_type": "code",
     "checksum": "f8240cb4ebdcc98e4e0806b7baac2057",
     "grade": true,
     "grade_id": "cell-Q1p4-ans",
     "locked": false,
     "points": 2,
     "schema_version": 3,
     "solution": true,
     "task": false
    },
    "tags": []
   },
   "outputs": [
    {
     "data": {
      "image/png": "[encoded data removed]",
      "text/plain": [
       "<Figure size 1000x500 with 1 Axes>"
      ]
     },
     "metadata": {},
     "output_type": "display_data"
    }
   ],
   "source": [
    "import numpy as np\n",
    "import matplotlib.pyplot as plt\n",
    "\n",
    "# Constants and setup\n",
    "a, b = 1.5, 0.25\n",
    "iterations = 25\n",
    "grid_size = 50\n",
    "\n",
    "# Grid \n",
    "xgrid = np.linspace(-5, 5, grid_size)\n",
    "ygrid = np.linspace(-5, 5, grid_size)\n",
    "xEnd = np.zeros((grid_size, grid_size))\n",
    "\n",
    "# iterating over the grid\n",
    "for i, x0 in enumerate(xgrid):\n",
    "    for j, y0 in enumerate(ygrid):\n",
    "        x, y = x0, y0\n",
    "        for k in range(iterations):\n",
    "            x, y = a - x**2 + b*y, np.sin(x)\n",
    "            if abs(x) > 1e7:  # Check for divergence\n",
    "                break\n",
    "        xEnd[i, j] = abs(x)\n",
    "\n",
    "# Plotting\n",
    "plt.figure(figsize=(10, 5))\n",
    "plt.title('Basin of Attraction for the Henon Map')\n",
    "\n",
    "xx, yy = np.meshgrid(xgrid, ygrid, indexing='ij')\n",
    "plt.pcolor(xx, yy, xEnd, shading='auto')\n",
    "plt.clim(-10,10)\n",
    "plt.xlabel('$x_0$')\n",
    "plt.ylabel('$y_0$')\n",
    "\n",
    "#Overlaying points from q1.1\n",
    "plt.scatter(zs[0, :], zs[1, :], c='blue', marker='.')\n",
    "\n",
    "#Overlaying fixed point from q1.3\n",
    "plt.plot(zFix[0], zFix[1], c='black', marker='.')\n",
    "plt.show()\n"
   ]
  },
  {
   "cell_type": "markdown",
   "id": "9269974a",
   "metadata": {
    "deletable": false,
    "editable": false,
    "nbgrader": {
     "cell_type": "markdown",
     "checksum": "5c8874afe90fe033b94e647be78b4635",
     "grade": false,
     "grade_id": "cell-Q1p5",
     "locked": true,
     "schema_version": 3,
     "solution": false,
     "task": false
    }
   },
   "source": [
    "### Q1.5\n",
    "\n",
    "It turns out that the fixed point lives on the edge of the basin of attraction! We can use this fact to obtain the fixed point in a novel way. \n",
    "\n",
    "We can use a bisection method to find it, but not by finding a root by a change of sign, but by finding the \"edge\" by a change in behaviour. In other words we start with two points, $\\mathbf{z}_1$ which is inside the basin and $\\mathbf{z}_2$ outside. We then obtain the midpoint, iterate the map, and then choose to update either the inside point or the outside point depending on if we moved onto the attractor or we moved towards infinity. Note, computationally this is an easy check; if the iteration ends up with $|x|$ being very large we update the outside point, otherwise we update the inside. This is the same criterion we used in Q1.4 to stop early.\n",
    "\n",
    "If we do this, we will end up with the (starting) point at the intersection of the edge with the line connecting the starting $\\mathbf{z}_1$ and $\\mathbf{z}_2.$ More importantly iterating from that point will traverse the edge for some time before moving away. Because the fixed point is a [\"saddle\" ](https://en.wikipedia.org/wiki/Saddle_point) (don't worry too much about what this means), the iterations will always move along the edge towards the fixed point, before heading off in either direction.\n",
    "\n",
    "This method of traversing \"the edge of chaos\" has proved really useful in understanding how fluid flow in pipes and channels [transitions to turbulence](https://chaosbook.org/library/SchneiderPRL07.pdf).\n",
    "\n",
    "---\n",
    "\n",
    "Using your plot from Q1.4 ***choose the $\\mathbf{z}_1$ and $\\mathbf{z}_2$ on either side of the edge***. Best to choose the exterior point to the left of the fixed point.  \n",
    "\n",
    "***Perform 50 steps of bisection*** updating the points as described above based on the outcome of iterating the map with the midpoint.\n",
    "\n",
    "***Stop bisecting if, at some point during the iteration of the map, we reach the fixed point,*** in other words $|\\mathbf{z}_{n+1}-\\mathbf{z}_n|<tol$ (or equivalent). We need to be a bit careful that we break out of both the loop iterating the map *and* the loop iterating the bisection method. Note that the fixed point will be found at a later iteration $\\mathbf{z}_n$, *not* the inside or outside *starting* points $\\mathbf{z}_1$ or $\\mathbf{z}_2$.\n",
    "\n",
    "***Save your fixed point value in the Python variable `zFixNew`,*** and print it, along with the number of bisection iterations required to converge to it.\n",
    "\n",
    "\n",
    "***Here is some pseudocode to help;***\n",
    "\n",
    "   \n",
    "\n",
    "    Set number of bisection steps (50)\n",
    "    Set number of iterations of the map (100)\n",
    "    Set the tolerance for convergence (1.e-7)\n",
    "\n",
    "    Set interior point z1\n",
    "    Set exterior point z2\n",
    "    Set-up array for midpoint\n",
    "\n",
    "    Do bisection loop\n",
    "\n",
    "        Obtain midpoint\n",
    "    \n",
    "        Use midpoint as starting value for iterating the map\n",
    "    \n",
    "        Do map iteration loop\n",
    "            \n",
    "            Update map\n",
    "            \n",
    "            Check if iterations are diverging (moving towards ± inf)\n",
    "                if True update exterior point z2 and stop iterating map\n",
    "             \n",
    "            Check if fixed point condition is satisfied\n",
    "                if True we can stop completely (both loops) and save the current z\n",
    "                \n",
    "        After the map iteration is complete, check if the midpoint was inside the basin\n",
    "            update the interior point z1\n",
    "\n",
    "\n",
    "**[2 marks]**"
   ]
  },
  {
   "cell_type": "code",
   "execution_count": 8,
   "id": "0b4f67cb",
   "metadata": {
    "deletable": false,
    "nbgrader": {
     "cell_type": "code",
     "checksum": "289c22fe2f7b3f635ea34d032a291c88",
     "grade": true,
     "grade_id": "cell-Q1p5-ans",
     "locked": false,
     "points": 1,
     "schema_version": 3,
     "solution": true,
     "task": false
    }
   },
   "outputs": [
    {
     "name": "stdout",
     "output_type": "stream",
     "text": [
      "Converged to fixed point: [-1.72597055 -0.98798457]\n",
      "Bisection steps: 31\n"
     ]
    }
   ],
   "source": [
    "import numpy as np\n",
    "\n",
    "# Constants and functions from previous questions\n",
    "a, b = 1.5, 0.25\n",
    "\n",
    "def henon_map(z):\n",
    "    x, y = z\n",
    "    return np.array([a - x**2 + b*y, np.sin(x)])\n",
    "\n",
    "# Initial setup\n",
    "z1 = np.array([0, 1])  # Inside the basin\n",
    "z2 = np.array([-3, 1])  # Outside the basin\n",
    "tol = 1e-7\n",
    "max_bisection_steps = 50\n",
    "max_iterations = 100\n",
    "\n",
    "# Bisection loop\n",
    "for i in range(max_bisection_steps):\n",
    "    z_mid = (z1 + z2) / 2\n",
    "    z = z_mid\n",
    "    for j in range(max_iterations):\n",
    "        z_next = henon_map(z)\n",
    "        if np.abs(z_next[0]) > 1e7:  # Check divergence\n",
    "            z2 = z_mid\n",
    "            break  \n",
    "         #convergence check; to calculate whether the absolute value of (z_next - z) < tol, \n",
    "         #here we are checking if the square root of the difference in x and y values squared are less than tol.\n",
    "        dx, dy = z_next - z  # Component-wise difference\n",
    "        if np.sqrt(dx**2 + dy**2) < tol:  # distance calculation to check if acceptable convergence is achieved\n",
    "            zFixNew = z\n",
    "            print(\"Converged to fixed point:\", zFixNew)\n",
    "            print(\"Bisection steps:\", i + 1)\n",
    "            break\n",
    "        z = z_next\n",
    "    else:\n",
    "        z1 = z_mid  # Update inside point if no divergence\n",
    "\n",
    "    if 'zFixNew' in locals():  #Check if fixed point was found by looking for zFixNew in local variables\n",
    "        break\n",
    "if 'zFixNew' not in locals():  # If fixed point not found in given steps\n",
    "    print(\"Fixed point not found in\", max_bisection_steps, \"bisection steps\")"
   ]
  },
  {
   "cell_type": "code",
   "execution_count": 9,
   "id": "754415c5",
   "metadata": {
    "deletable": false,
    "editable": false,
    "nbgrader": {
     "cell_type": "code",
     "checksum": "602021119480cc0c9aeb5d8a7229806d",
     "grade": true,
     "grade_id": "cell-Q1p5-tests",
     "locked": true,
     "points": 1,
     "schema_version": 3,
     "solution": false,
     "task": false
    },
    "tags": []
   },
   "outputs": [],
   "source": [
    "# Don't edit this cell\n",
    "    \n",
    "if not \"zFixNew\" in globals():\n",
    "    raise NotImplementedError(\"zFixNew has not been defined in Question 1.5\")\n"
   ]
  },
  {
   "cell_type": "markdown",
   "id": "a95293e8-4ed5-4511-b000-7f72be5e914e",
   "metadata": {
    "deletable": false,
    "editable": false,
    "nbgrader": {
     "cell_type": "markdown",
     "checksum": "640be0b5f5bea24c812b977cf7667723",
     "grade": false,
     "grade_id": "cell-Q2p0",
     "locked": true,
     "schema_version": 3,
     "solution": false,
     "task": false
    },
    "tags": []
   },
   "source": [
    "\n",
    "---\n",
    "\n",
    "## Pure: Chinese Remainder Theorem\n",
    "\n",
    "Given a single *linear congruence equation* like $x \\equiv a \\pmod{n}$, it is easy to find a solution - just take $x = a$. But what if you are given a system of simultaneous equations, like the following?\n",
    "\n",
    "$$\n",
    "\\begin{align*}\n",
    "x &\\equiv 2 \\pmod{6} \\\\\n",
    "x &\\equiv 3 \\pmod{7}\n",
    "\\end{align*}\n",
    "$$\n",
    "\n",
    "It is a bit more work, but through trial-and-error you could find a solution $x = 38$. Now imagine you are instead given\n",
    "\n",
    "$$\n",
    "\\begin{align*}\n",
    "x &\\equiv 85 &&\\pmod{103} \\\\\n",
    "x &\\equiv 143 &&\\pmod{257} \\\\\n",
    "x &\\equiv 2 &&\\pmod{673}\n",
    "\\end{align*}\n",
    "$$\n",
    "\n",
    "with smallest solution $9294805$. How would you even know that there is a solution to this? One useful tool is the Chinese Remainder Theorem:\n",
    "\n",
    "----\n",
    "\n",
    "**Chinese Remainder Theorem**\n",
    "\n",
    "Suppose we have a system of linear congruence equations\n",
    "\n",
    "\\begin{align*}\n",
    "x &\\equiv a_1 &&\\pmod{n_1} \\\\\n",
    "x &\\equiv a_2 &&\\pmod{n_2} \\\\\n",
    "& & \\vdots \\\\\n",
    "x &\\equiv a_k &&\\pmod{n_k}\n",
    "\\end{align*}\n",
    "\n",
    "such that $0 \\leq a_i < n_i$ and  $n_i > 1$ for all $i$, and $\\gcd(n_i, n_j) = 1$ whenever $i \\neq j$ (i.e. the *moduli* are all distinct and coprime). Let $N = n_1n_2\\cdots n_k$ be the product of all of the moduli.\n",
    "Then there is a unique solution $x$ to the system such that $x \\in \\{0, 1, 2, \\ldots, N-1\\}$.\n",
    "\n",
    "----\n",
    "\n",
    "So now we can tell that the system above has a solution (after verifying that the moduli are coprime), but how could you find one? We will implement three methods for doing so, the last of which allows large systems to be solved incredibly quickly."
   ]
  },
  {
   "cell_type": "markdown",
   "id": "3886820d-f3b5-4df4-a58e-bf9b9a23ed0a",
   "metadata": {
    "deletable": false,
    "editable": false,
    "nbgrader": {
     "cell_type": "markdown",
     "checksum": "b7b029ea6d22a84a8ab8c041963d13df",
     "grade": false,
     "grade_id": "cell-Q2p1",
     "locked": true,
     "schema_version": 3,
     "solution": false,
     "task": false
    },
    "tags": []
   },
   "source": [
    "### Q2.1\n",
    "\n",
    "The first thing we need to be able to do is to check if a solution is actually correct.\n",
    "\n",
    "***Write a function `isSolution` which takes two arguments `x` and `system`, and checks if `x` is a solution to `system`. It should return `True` if so, and `False` otherwise.***\n",
    "\n",
    "The `system` should be represented as a list of tuples `[(a1, n1), (a2, n2), ..., (ak, nk)]`; for example, the system above would be represented by `[(85, 103), (143, 257), (2, 673)]`.\n",
    "\n",
    "Be sure to return the boolean values `True` or `False`, not the strings `\"True\"` or `\"False\"` - and you must `return` rather than `print`.\n",
    "\n",
    "Within your function, you can assume that `x` is an integer in the correct range (i.e. the set shown above), and that `system` is represented as above.\n",
    "\n",
    "There is a helpful piece of syntax called \"tuple unpacking\" that you might want to use throughout the rest of the project, demonstrated in the following piece of code; you should run this before using it and work out what is going on.\n",
    "\n",
    "```python\n",
    "system = [(85, 103), (143, 257), (2, 673)]\n",
    "for rem, mod in system:\n",
    "    print(\"remainder: \", rem, \", modulus: \", mod)\n",
    "```\n",
    "\n",
    "**[1 mark]**"
   ]
  },
  {
   "cell_type": "code",
   "execution_count": 10,
   "id": "d692d7dd-f9ee-489d-bb71-4d9278951f1d",
   "metadata": {
    "deletable": false,
    "execution": {
     "iopub.execute_input": "2024-03-11T10:34:16.408306Z",
     "iopub.status.busy": "2024-03-11T10:34:16.407726Z",
     "iopub.status.idle": "2024-03-11T10:34:16.415659Z",
     "shell.execute_reply": "2024-03-11T10:34:16.414221Z",
     "shell.execute_reply.started": "2024-03-11T10:34:16.408253Z"
    },
    "nbgrader": {
     "cell_type": "code",
     "checksum": "22f69c2ed0dded32fdffc0d4762e4ebb",
     "grade": false,
     "grade_id": "cell-Q2p1-ans",
     "locked": false,
     "schema_version": 3,
     "solution": true,
     "task": false
    },
    "tags": []
   },
   "outputs": [
    {
     "name": "stdout",
     "output_type": "stream",
     "text": [
      "True\n",
      "False\n"
     ]
    }
   ],
   "source": [
    "def isSolution(x, system):\n",
    "    for rem, mod in system:\n",
    "        if x % mod != rem:\n",
    "            return False\n",
    "    return True\n",
    "\n",
    "#Examples\n",
    "system = [(85, 103), (143, 257), (2, 673)]\n",
    "\n",
    "x_given = 9294805  #given solution\n",
    "print(isSolution(x_given, system))\n",
    "\n",
    "x_trial = 1234123 #trial value\n",
    "print(isSolution(x_trial, system))\n"
   ]
  },
  {
   "cell_type": "code",
   "execution_count": 11,
   "id": "e5641fc8-93cf-4b02-9e47-fc4b5a68dd6e",
   "metadata": {
    "deletable": false,
    "editable": false,
    "execution": {
     "iopub.execute_input": "2024-03-11T10:34:16.697796Z",
     "iopub.status.busy": "2024-03-11T10:34:16.697300Z",
     "iopub.status.idle": "2024-03-11T10:34:16.704133Z",
     "shell.execute_reply": "2024-03-11T10:34:16.702812Z",
     "shell.execute_reply.started": "2024-03-11T10:34:16.697747Z"
    },
    "nbgrader": {
     "cell_type": "code",
     "checksum": "aa03556d9832419739b61e44a9247c2c",
     "grade": true,
     "grade_id": "cell-Q2p1-tests",
     "locked": true,
     "points": 1,
     "schema_version": 3,
     "solution": false,
     "task": false
    },
    "tags": []
   },
   "outputs": [],
   "source": [
    "if not \"isSolution\" in globals():\n",
    "    raise NotImplementedError(\"isSolution has not been defined in Question 2.1\")\n"
   ]
  },
  {
   "cell_type": "markdown",
   "id": "ba21f80c-01b0-4f9a-9e40-72eecff92691",
   "metadata": {
    "deletable": false,
    "editable": false,
    "nbgrader": {
     "cell_type": "markdown",
     "checksum": "6e4513ad71c337faccd60232b8d2d6f7",
     "grade": false,
     "grade_id": "cell-Q2p2",
     "locked": true,
     "schema_version": 3,
     "solution": false,
     "task": false
    },
    "tags": []
   },
   "source": [
    "### Q2.2\n",
    "\n",
    "A friend, hearing about your new interest in systems of linear congruence equations, challenges you to solve the  system\n",
    "\n",
    "`system1 = [(328, 419), (93, 421), (391, 431), (234, 433), (274, 439)]`\n",
    "\n",
    "They promise that the answer is a familiar number.\n",
    "\n",
    "\n",
    "\n",
    "Now that you have `isSolution`, you can implement the first of the methods: just test all of the numbers between $1$ and $N$ (where $N$ is the product of the moduli, as above). When you find a solution, `return` it.\n",
    "\n",
    "***Implement this as a function `bruteForceSolver`, which takes one argument `system` (represented as above), and returns the solution to `system` lying in the range $\\{0, 1, \\ldots, N-1\\}$.***\n",
    "\n",
    "\n",
    "***Use this function to find the solution to `system1`, and store it in a variable `solution1`***.\n",
    "\n",
    "\n",
    "You can assume when writing your function that all of the moduli are coprime, and so a solution does exist.\n",
    "\n",
    "**[2 marks]**"
   ]
  },
  {
   "cell_type": "code",
   "execution_count": 12,
   "id": "6cf97c23-10bd-4780-9355-eb9e952d34fd",
   "metadata": {
    "deletable": false,
    "execution": {
     "iopub.execute_input": "2024-03-11T10:48:38.831558Z",
     "iopub.status.busy": "2024-03-11T10:48:38.830488Z",
     "iopub.status.idle": "2024-03-11T10:48:38.955316Z",
     "shell.execute_reply": "2024-03-11T10:48:38.954194Z",
     "shell.execute_reply.started": "2024-03-11T10:48:38.831502Z"
    },
    "nbgrader": {
     "cell_type": "code",
     "checksum": "2c148cceeb10ff676b2fad319fa5761a",
     "grade": false,
     "grade_id": "cell-Q2p2-ans",
     "locked": false,
     "schema_version": 3,
     "solution": true,
     "task": false
    },
    "tags": []
   },
   "outputs": [
    {
     "name": "stdout",
     "output_type": "stream",
     "text": [
      "314159\n"
     ]
    }
   ],
   "source": [
    "def bruteForceSolver(system):\n",
    "    # Calculate the product of the moduli\n",
    "    prod_mods = 1\n",
    "    for rem, mod in system:\n",
    "        prod_mods *= mod\n",
    "\n",
    "    #Check each number from 1 to N to find solution\n",
    "    for x in range(1, prod_mods):\n",
    "        if isSolution(x, system):\n",
    "            return x\n",
    "\n",
    "#Example with given system\n",
    "system1 = [(328, 419), (93, 421), (391, 431), (234, 433), (274, 439)]\n",
    "solution1 = bruteForceSolver(system1)\n",
    "print(solution1)\n"
   ]
  },
  {
   "cell_type": "code",
   "execution_count": 13,
   "id": "8c72c83e-031e-4d7f-871b-3e0b1dc33192",
   "metadata": {
    "deletable": false,
    "editable": false,
    "execution": {
     "iopub.execute_input": "2024-03-11T10:48:39.815347Z",
     "iopub.status.busy": "2024-03-11T10:48:39.814973Z",
     "iopub.status.idle": "2024-03-11T10:48:39.821276Z",
     "shell.execute_reply": "2024-03-11T10:48:39.820057Z",
     "shell.execute_reply.started": "2024-03-11T10:48:39.815312Z"
    },
    "nbgrader": {
     "cell_type": "code",
     "checksum": "2dc39b7864bf1d232ee81bb6747ed973",
     "grade": true,
     "grade_id": "cell-Q2p2-tests",
     "locked": true,
     "points": 2,
     "schema_version": 3,
     "solution": false,
     "task": false
    },
    "tags": []
   },
   "outputs": [],
   "source": [
    "if not \"bruteForceSolver\" in globals():\n",
    "    raise NotImplementedError(\"bruteForceSolver has not been defined in Question 2.2\")\n",
    "if not \"solution1\" in globals():\n",
    "    raise NotImplementedError(\"solution1 has not been defined in Question 2.2\")"
   ]
  },
  {
   "cell_type": "markdown",
   "id": "60dccd26-21f8-4382-b83f-fd3d9d23d6b4",
   "metadata": {
    "deletable": false,
    "editable": false,
    "execution": {
     "iopub.execute_input": "2024-03-11T10:11:09.449353Z",
     "iopub.status.busy": "2024-03-11T10:11:09.448759Z",
     "iopub.status.idle": "2024-03-11T10:11:09.456825Z",
     "shell.execute_reply": "2024-03-11T10:11:09.455504Z",
     "shell.execute_reply.started": "2024-03-11T10:11:09.449302Z"
    },
    "nbgrader": {
     "cell_type": "markdown",
     "checksum": "f5be3c5ec8a2ecf4e8488beefd97dd0f",
     "grade": false,
     "grade_id": "cell-Q2p3",
     "locked": true,
     "schema_version": 3,
     "solution": false,
     "task": false
    },
    "tags": []
   },
   "source": [
    "### Q2.3\n",
    "\n",
    "Not satisfied with your solution, your friend gives you another system that they claim is impossible to solve by brute force, but still has a recognisable answer:\n",
    "\n",
    "```python\n",
    "system2 = [(317767, 611839),\n",
    "           (478266, 611873),\n",
    "           (92103, 611879),\n",
    "           (197226, 611887),\n",
    "           (435360, 611903)]\n",
    "```\n",
    "\n",
    "You will need to implement a better method than in Q2.2.\n",
    "\n",
    "We have a system of equations\n",
    "\n",
    "\\begin{align*}\n",
    "x &\\equiv a_1 &&\\pmod{n_1} \\\\\n",
    "x &\\equiv a_2 &&\\pmod{n_2} \\\\\n",
    "& & \\vdots \\\\\n",
    "x &\\equiv a_k &&\\pmod{n_k}\n",
    "\\end{align*}\n",
    "\n",
    "One solution to the first equation is simply $x_1 = a_1$. Other solutions to the first equation are of the form $x_1 + ln_1$ for some $l$, so to find a solution to the first two equations you can try $l = 1, 2, 3, \\ldots$ until you find a value $x_2 = x_1 + ln_1$ with $x_2 \\equiv a_2 \\pmod{n_2}$.\n",
    "\n",
    "Other solutions to the first two equations are then of the form $x_2 + jn_1n_2$, so you can search these for a solution to the first three equations, and so on. Eventually you will find a solution $x_k$ to the whole system of equations.\n",
    "\n",
    "\n",
    "***Implement this as a function `progressiveSolver`, which takes one argument `system` (represented as above), and returns the solution to `system` lying in the range $\\{0, 1, \\ldots, N-1\\}$.***\n",
    "\n",
    "\n",
    "***Use this function to find the solution to `system2`, and store it in a variable `solution2`***.\n",
    "\n",
    "The same assumptions as above apply.\n",
    "\n",
    "**[2 marks]**"
   ]
  },
  {
   "cell_type": "code",
   "execution_count": 14,
   "id": "6d89a6fb",
   "metadata": {
    "deletable": false,
    "execution": {
     "iopub.execute_input": "2024-03-11T11:06:18.843728Z",
     "iopub.status.busy": "2024-03-11T11:06:18.843228Z",
     "iopub.status.idle": "2024-03-11T11:06:18.954690Z",
     "shell.execute_reply": "2024-03-11T11:06:18.953543Z",
     "shell.execute_reply.started": "2024-03-11T11:06:18.843684Z"
    },
    "nbgrader": {
     "cell_type": "code",
     "checksum": "78a894a073220fc899ce55638dcc92c9",
     "grade": false,
     "grade_id": "cell-Q2p3-ans",
     "locked": false,
     "schema_version": 3,
     "solution": true,
     "task": false
    },
    "tags": []
   },
   "outputs": [
    {
     "name": "stdout",
     "output_type": "stream",
     "text": [
      "27182818284590\n"
     ]
    }
   ],
   "source": [
    "def progressiveSolver(system):\n",
    "    \n",
    "    x = system[0][0]  #starting solution is the remainder of the first equation\n",
    "    prod_mods = system[0][1] #starting product of mods is the first modulo in the system.\n",
    "\n",
    "    for rem, mod in system[1:]:  #Start from the second tuple\n",
    "        # Adjust x till it satisfies the current congruence\n",
    "        while x % mod != rem:\n",
    "            x += prod_mods\n",
    "\n",
    "        prod_mods *= mod  #set product of moduli for the next level of congruences\n",
    "\n",
    "    return x\n",
    "\n",
    "# Example usage\n",
    "system2 = [(317767, 611839), (478266, 611873), (92103, 611879), (197226, 611887), (435360, 611903)]\n",
    "solution2 = progressiveSolver(system2)\n",
    "print(solution2)\n"
   ]
  },
  {
   "cell_type": "code",
   "execution_count": 15,
   "id": "e7553306-bdea-4e25-9b5a-11057927d8f5",
   "metadata": {
    "deletable": false,
    "editable": false,
    "execution": {
     "iopub.execute_input": "2024-03-11T11:06:19.257801Z",
     "iopub.status.busy": "2024-03-11T11:06:19.257436Z",
     "iopub.status.idle": "2024-03-11T11:06:19.263887Z",
     "shell.execute_reply": "2024-03-11T11:06:19.262587Z",
     "shell.execute_reply.started": "2024-03-11T11:06:19.257765Z"
    },
    "nbgrader": {
     "cell_type": "code",
     "checksum": "f37adbee2cd298509e325ff0c76adda2",
     "grade": true,
     "grade_id": "cell-Q2p3-tests",
     "locked": true,
     "points": 2,
     "schema_version": 3,
     "solution": false,
     "task": false
    },
    "tags": []
   },
   "outputs": [],
   "source": [
    "if not \"progressiveSolver\" in globals():\n",
    "    raise NotImplementedError(\"progressiveSolver has not been defined in Question 2.3\")\n",
    "if not \"solution2\" in globals():\n",
    "    raise NotImplementedError(\"solution2 has not been defined in Question 2.3\")"
   ]
  },
  {
   "cell_type": "markdown",
   "id": "d46c9f81-2f0a-4202-9a81-3f9ec9f56a17",
   "metadata": {
    "deletable": false,
    "editable": false,
    "nbgrader": {
     "cell_type": "markdown",
     "checksum": "8dc9a4848612c9fed04b7378263f4b1d",
     "grade": false,
     "grade_id": "cell-07e2eead503244a5",
     "locked": true,
     "schema_version": 3,
     "solution": false,
     "task": false
    },
    "tags": []
   },
   "source": [
    "### Q2.4\n",
    "\n",
    "Frustrated by you solving their systems, your \"friend\" gives you one final ridiculous system:\n",
    "\n",
    "\\begin{align*}\n",
    "x &\\equiv 72 &&\\pmod{103} \\\\\n",
    "x &\\equiv 674792 &&\\pmod{1000003} \\\\\n",
    "x &\\equiv 24309993710 && \\pmod{100000000003} \\\\\n",
    "x &\\equiv 9100910088300730 && \\pmod{1000000000000000003}\\\\\n",
    "x &\\equiv 2170217021702179244924493 && \\pmod{10000000000000000000000003}\n",
    "\\end{align*}\n",
    "\n",
    "\n",
    "\n",
    "```python\n",
    "system3 = [(72, 103),\n",
    "           (674792, 1000003),\n",
    "           (24309993710, 100000000003),\n",
    "           (9100910088300730, 1000000000000000003),\n",
    "           (2170217021702179244924493, 10000000000000000000000003)]\n",
    "```\n",
    "\n",
    "The solution is a very recognisable number, but extremely large. To solve this system, we will have to improve our method again. We first need a better method for solving systems of two equations\n",
    "\n",
    "\\begin{align*}\n",
    "x &\\equiv a_1 &&\\pmod{n_1} \\\\\n",
    "x &\\equiv a_2 &&\\pmod{n_2}\n",
    "\\end{align*}\n",
    "\n",
    "Since $\\gcd(n_1, n_2) = 1$ by assumption, Bezout's Lemma (Corollary 3.11 in the Pure lecture notes) tells us we can write $1 = cn_1 + dn_2$ for some integers $c, d$. You can then check that $x = a_1dn_2 + a_2cn_1$ (note the order!) is a solution to these two equations. This gives rise to an iterative method for solving a larger system:\n",
    "\n",
    "1. Find a solution $x_2$ to the first two equations, let $m_2 = n_1n_2$, and reduce $x_2$ modulo $m_2$.\n",
    "2. Form a new equation $x \\equiv x_2 \\pmod{m_2}$.\n",
    "3. Find a solution $x_3$ to this new equation together with the original third equation, let $m_3 = n_1n_2n_3$, and reduce $x_3$ modulo $m_3$.\n",
    "4. Form a new equation $x \\equiv x_3 \\pmod{m_3}$.\n",
    "5. Find a solution $x_4$ to this new equation together with the original fourth equation, let $m_4 = n_1n_2n_3n_4$, and reduce $x_4$ modulo $m_4$.\n",
    "6. Carry on like this until you find the solution $x_k$.\n",
    "\n",
    "In this process, you are only ever solving a system of two equations at a time, so you can use the Bezout coefficients as described above.\n",
    "\n",
    "\n",
    "***(a) Copy the code provided below into a code cell below and modify it so that it correctly returns the coefficients for Bezout's Lemma obtained via the extended Euclidean algorithm.***\n",
    "\n",
    "```python\n",
    "def bezoutCoefficients(a, b):\n",
    "    # For this code, we won't force a to be bigger to start with.\n",
    "    # coeffsLeft represents the coefficients seen on the left hand side\n",
    "    # while doing the extended Euclidean algorithm (and similarly for coeffs_right)\n",
    "    coeffsLeft = [1, 0]\n",
    "    coeffsRight = [0, 1]\n",
    "    left = a\n",
    "    right = b\n",
    "\n",
    "    while min(left, right) > 0:\n",
    "        if left < right:\n",
    "            q = right // left     # // does \"integer division\"\n",
    "            r = right % left\n",
    "            coeffsRight = [coeffsRight[0] - q*coeffsLeft[0], coeffsRight[1] - q*coeffsLeft[1]]\n",
    "            right = r\n",
    "        else:\n",
    "    # Complete this function!\n",
    "```\n",
    "Note: you only need to make additions to this code; it is not necessary to change anything that is already there.\n",
    "\n",
    "**[2 marks]**\n",
    "\n",
    "\n",
    "***(b) Implement the method above for solving a system of 2 congruence equations as a function `solve2System`. It should have one argument `system`, a system of length 2, and it should return the solution $x = a_1dn_2 + a_2cn_1$ from above. Once you have this function, use the function `iterativeSolver` provided below to solve `system3`, and store the answer as `solution3`.***\n",
    "\n",
    "```python\n",
    "def iterativeSolver(system):\n",
    "    currentSol = solve2System(system[:2])\n",
    "    currentMod = system[0][1] * system[1][1]\n",
    "    for eqn in system[2:]:\n",
    "        currentSol = solve2System([(currentSol, currentMod), eqn])\n",
    "        currentMod *= eqn[1]\n",
    "    return currentSol\n",
    "```\n",
    "\n",
    "**[2 marks]**"
   ]
  },
  {
   "cell_type": "code",
   "execution_count": 16,
   "id": "6fdb6372",
   "metadata": {
    "deletable": false,
    "execution": {
     "iopub.execute_input": "2024-03-11T16:06:33.664204Z",
     "iopub.status.busy": "2024-03-11T16:06:33.663774Z",
     "iopub.status.idle": "2024-03-11T16:06:33.672330Z",
     "shell.execute_reply": "2024-03-11T16:06:33.671066Z",
     "shell.execute_reply.started": "2024-03-11T16:06:33.664167Z"
    },
    "nbgrader": {
     "cell_type": "code",
     "checksum": "9d480ddb892b99adc123ea03db1d7ec1",
     "grade": false,
     "grade_id": "cell-Q2p4a-ans",
     "locked": false,
     "schema_version": 3,
     "solution": true,
     "task": false
    },
    "tags": []
   },
   "outputs": [],
   "source": [
    "def bezoutCoefficients(a, b):\n",
    "    # For this code, we won't force a to be bigger to start with.\n",
    "    # coeffsLeft represents the coefficients seen on the left hand side\n",
    "    # while doing the extended Euclidean algorithm (and similarly for coeffs_right)\n",
    "    coeffsLeft = [1, 0]\n",
    "    coeffsRight = [0, 1]\n",
    "    left = a\n",
    "    right = b\n",
    "\n",
    "    while min(left, right) > 0:\n",
    "        if left < right:\n",
    "            q = right // left     # // does \"integer division\"\n",
    "            r = right % left\n",
    "            coeffsRight = [coeffsRight[0] - q*coeffsLeft[0], coeffsRight[1] - q*coeffsLeft[1]]\n",
    "            right = r\n",
    "        else:\n",
    "            q = left // right \n",
    "            r = left % right\n",
    "            left = r\n",
    "            coeffsLeft = [coeffsLeft[0] - q * coeffsRight[0], coeffsLeft[1] - q * coeffsRight[1]]\n",
    "\n",
    "    # Return the final coefficients\n",
    "    if left > 0:\n",
    "        return coeffsLeft  #Return coefficients for a if left is non-zero\n",
    "    else:\n",
    "        return coeffsRight  #Return coefficients for b if right is not-zero"
   ]
  },
  {
   "cell_type": "code",
   "execution_count": 17,
   "id": "be87bbf4",
   "metadata": {
    "deletable": false,
    "execution": {
     "iopub.execute_input": "2024-03-11T16:12:23.640397Z",
     "iopub.status.busy": "2024-03-11T16:12:23.639791Z",
     "iopub.status.idle": "2024-03-11T16:12:23.657430Z",
     "shell.execute_reply": "2024-03-11T16:12:23.656150Z",
     "shell.execute_reply.started": "2024-03-11T16:12:23.640343Z"
    },
    "nbgrader": {
     "cell_type": "code",
     "checksum": "1c15463d7d42310c6dd1222613a86b58",
     "grade": false,
     "grade_id": "cell-Q2p4b-ans",
     "locked": false,
     "schema_version": 3,
     "solution": true,
     "task": false
    },
    "tags": []
   },
   "outputs": [
    {
     "name": "stdout",
     "output_type": "stream",
     "text": [
      "100310031003100310031003100310031003100310031003100310031003\n"
     ]
    }
   ],
   "source": [
    "def solve2System(system):\n",
    "    (a1, n1), (a2, n2) = system\n",
    "    c, d = bezoutCoefficients(n1, n2)  # Get Bezout coefficients for the moduli\n",
    "\n",
    "    x = a1 * d * n2 + a2 * c * n1  # Solution formula \n",
    "    x %= n1 * n2  # Reduce x modulo the product of n1 and n2 to get the minimum solution\n",
    "\n",
    "    return x\n",
    "\n",
    "\n",
    "def iterativeSolver(system):\n",
    "    currentSol = solve2System(system[:2])\n",
    "    currentMod = system[0][1] * system[1][1]\n",
    "    for eqn in system[2:]:\n",
    "        currentSol = solve2System([(currentSol, currentMod), eqn])\n",
    "        currentMod *= eqn[1]\n",
    "    return currentSol\n",
    "\n",
    "#Given system\n",
    "system3 = [(72, 103),\n",
    "           (674792, 1000003),\n",
    "           (24309993710, 100000000003),\n",
    "           (9100910088300730, 1000000000000000003),\n",
    "           (2170217021702179244924493, 10000000000000000000000003)]\n",
    "\n",
    "solution3 = iterativeSolver(system3)\n",
    "print(solution3)\n"
   ]
  },
  {
   "cell_type": "code",
   "execution_count": 18,
   "id": "0846cd08-3d53-4392-a68d-3c275834b2fa",
   "metadata": {
    "deletable": false,
    "editable": false,
    "execution": {
     "iopub.execute_input": "2024-03-11T11:41:16.351835Z",
     "iopub.status.busy": "2024-03-11T11:41:16.351287Z",
     "iopub.status.idle": "2024-03-11T11:41:16.358191Z",
     "shell.execute_reply": "2024-03-11T11:41:16.356913Z",
     "shell.execute_reply.started": "2024-03-11T11:41:16.351786Z"
    },
    "nbgrader": {
     "cell_type": "code",
     "checksum": "bf6bbdcac1897f62f6ec9bd7e058e657",
     "grade": true,
     "grade_id": "cell-Q2p4a-tests",
     "locked": true,
     "points": 2,
     "schema_version": 3,
     "solution": false,
     "task": false
    },
    "tags": []
   },
   "outputs": [],
   "source": [
    "if not \"bezoutCoefficients\" in globals():\n",
    "    raise NotImplementedError(\"bezoutCoefficients has not been defined in Question 2.4a\")"
   ]
  },
  {
   "cell_type": "code",
   "execution_count": 19,
   "id": "7eb62202-cb1a-4574-acbd-d8dee00c35ef",
   "metadata": {
    "deletable": false,
    "editable": false,
    "execution": {
     "iopub.execute_input": "2024-03-11T11:43:32.903795Z",
     "iopub.status.busy": "2024-03-11T11:43:32.903193Z",
     "iopub.status.idle": "2024-03-11T11:43:32.911428Z",
     "shell.execute_reply": "2024-03-11T11:43:32.909934Z",
     "shell.execute_reply.started": "2024-03-11T11:43:32.903741Z"
    },
    "nbgrader": {
     "cell_type": "code",
     "checksum": "d44b8d21c9305bcaac7de871e473572c",
     "grade": true,
     "grade_id": "cell-Q2p4b-tests",
     "locked": true,
     "points": 2,
     "schema_version": 3,
     "solution": false,
     "task": false
    },
    "tags": []
   },
   "outputs": [],
   "source": [
    "if not \"solve2System\" in globals():\n",
    "    raise NotImplementedError(\"solve2System has not been defined in Question 2.4b\")\n",
    "if not \"solution3\" in globals():\n",
    "    raise NotImplementedError(\"solution3 has not been defined in Question 2.4b\")\n"
   ]
  },
  {
   "cell_type": "markdown",
   "id": "e5687305-2fcf-4220-b2bf-e1af4c3966e2",
   "metadata": {
    "deletable": false,
    "editable": false,
    "nbgrader": {
     "cell_type": "markdown",
     "checksum": "e4463c309e4e3bdbe4696c7e87e107dd",
     "grade": false,
     "grade_id": "cell-Q2p5",
     "locked": true,
     "schema_version": 3,
     "solution": false,
     "task": false
    },
    "tags": []
   },
   "source": [
    "### Q2.5\n",
    "\n",
    "In all of the questions above, we assumed that the moduli are coprime. If they are not, two things can happen: there might be no solution (the system is *inconsistent*), or there might be multiple solutions in the range $\\{0, 1, \\ldots, N-1\\}$ (where $N$ is the product of the moduli as above).\n",
    "\n",
    "***Find examples of systems showing each of these behaviours, and store them as `systemInconsistent` and `systemNonunique`.***\n",
    "\n",
    "Within each system, there should be at least 3 moduli, each greater than $1$, and the moduli must all be distinct.\n",
    "\n",
    "**[1 mark]**"
   ]
  },
  {
   "cell_type": "code",
   "execution_count": 20,
   "id": "f2be1467-c871-4931-b0cf-f37ff1df4e72",
   "metadata": {
    "deletable": false,
    "execution": {
     "iopub.execute_input": "2024-03-11T11:55:45.819113Z",
     "iopub.status.busy": "2024-03-11T11:55:45.818511Z",
     "iopub.status.idle": "2024-03-11T11:55:45.826674Z",
     "shell.execute_reply": "2024-03-11T11:55:45.825350Z",
     "shell.execute_reply.started": "2024-03-11T11:55:45.819058Z"
    },
    "nbgrader": {
     "cell_type": "code",
     "checksum": "e7756ac1324cf9735e2396751220a7e4",
     "grade": false,
     "grade_id": "cell-Q2p5-ans",
     "locked": false,
     "schema_version": 3,
     "solution": true,
     "task": false
    },
    "tags": []
   },
   "outputs": [],
   "source": [
    "\n",
    "systemInconsistent = [(1, 4),  #x ≡ 1 (mod 4)\n",
    "                      (2, 6),  #x ≡ 2 (mod 6), contradicting the first\n",
    "                      (3, 8)]  #x ≡ 3 (mod 8), further complication\n",
    "\n",
    "systemNonunique = [(2, 4),  #x ≡ 2 (mod 4)\n",
    "                   (2, 8),  #x ≡ 2 (mod 8), not contradicting but overlapping due to shared factors\n",
    "                   (2, 12)] #x ≡ 2 (mod 12), furthering the non-uniqueness\n"
   ]
  },
  {
   "cell_type": "code",
   "execution_count": 21,
   "id": "a1e9d798-be73-48cb-acec-9221cefe94f4",
   "metadata": {
    "deletable": false,
    "editable": false,
    "execution": {
     "iopub.execute_input": "2024-03-11T11:55:46.478061Z",
     "iopub.status.busy": "2024-03-11T11:55:46.477564Z",
     "iopub.status.idle": "2024-03-11T11:55:46.484912Z",
     "shell.execute_reply": "2024-03-11T11:55:46.483558Z",
     "shell.execute_reply.started": "2024-03-11T11:55:46.478012Z"
    },
    "nbgrader": {
     "cell_type": "code",
     "checksum": "1c045f5e23041dbafdeb563d72cbce2e",
     "grade": true,
     "grade_id": "cell-Q2p5-tests",
     "locked": true,
     "points": 1,
     "schema_version": 3,
     "solution": false,
     "task": false
    },
    "tags": []
   },
   "outputs": [],
   "source": [
    "if not \"systemInconsistent\" in globals():\n",
    "    raise NotImplementedError(\"systemInconsistent has not been defined in Question 2.5\")\n",
    "if not \"systemNonunique\" in globals():\n",
    "    raise NotImplementedError(\"systemNonunique has not been defined in Question 2.5\")\n",
    "    "
   ]
  }
 ],
 "metadata": {
  "kernelspec": {
   "display_name": "Python 3 (ipykernel)",
   "language": "python",
   "name": "python3"
  },
  "language_info": {
   "codemirror_mode": {
    "name": "ipython",
    "version": 3
   },
   "file_extension": ".py",
   "mimetype": "text/x-python",
   "name": "python",
   "nbconvert_exporter": "python",
   "pygments_lexer": "ipython3",
   "version": "3.10.10"
  },
  "nbdime-conflicts": {
   "local_diff": [
    {
     "key": "language_info",
     "op": "add",
     "value": {
      "codemirror_mode": {
       "name": "ipython",
       "version": 3
      },
      "file_extension": ".py",
      "mimetype": "text/x-python",
      "name": "python",
      "nbconvert_exporter": "python",
      "pygments_lexer": "ipython3",
      "version": "3.9.12"
     }
    }
   ],
   "remote_diff": [
    {
     "key": "language_info",
     "op": "add",
     "value": {
      "codemirror_mode": {
       "name": "ipython",
       "version": 3
      },
      "file_extension": ".py",
      "mimetype": "text/x-python",
      "name": "python",
      "nbconvert_exporter": "python",
      "pygments_lexer": "ipython3",
      "version": "3.10.9"
     }
    }
   ]
  },
  "toc": {
   "base_numbering": 1,
   "nav_menu": {},
   "number_sections": false,
   "sideBar": true,
   "skip_h1_title": false,
   "title_cell": "Table of Contents",
   "title_sidebar": "Contents",
   "toc_cell": false,
   "toc_position": {},
   "toc_section_display": true,
   "toc_window_display": false
  }
 },
 "nbformat": 4,
 "nbformat_minor": 5
}
